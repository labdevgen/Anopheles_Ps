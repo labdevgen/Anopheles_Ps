{
 "cells": [
  {
   "cell_type": "code",
   "execution_count": 19,
   "metadata": {},
   "outputs": [],
   "source": [
    "from coverageCalculator import getCoverage\n",
    "import straw\n",
    "import pandas as pd"
   ]
  },
  {
   "cell_type": "code",
   "execution_count": 60,
   "metadata": {
    "scrolled": true
   },
   "outputs": [
    {
     "name": "stdout",
     "output_type": "stream",
     "text": [
      "HiC version:  8\n",
      "java -jar juicer/juicer_tools_1.19.02.jar dump observed NONE https://genedev.bionet.nsc.ru/site/hic_out/Anopheles/ActualData/hic/AsteI2_V4/AsteI2_V4.hic X X BP 100000 temp.contacts\n",
      "java -jar juicer/juicer_tools_1.19.02.jar dump observed NONE https://genedev.bionet.nsc.ru/site/hic_out/Anopheles/ActualData/hic/AsteI2_V4/AsteI2_V4.hic X 2R BP 100000 temp.contacts\n",
      "java -jar juicer/juicer_tools_1.19.02.jar dump observed NONE https://genedev.bionet.nsc.ru/site/hic_out/Anopheles/ActualData/hic/AsteI2_V4/AsteI2_V4.hic X 2L BP 100000 temp.contacts\n",
      "java -jar juicer/juicer_tools_1.19.02.jar dump observed NONE https://genedev.bionet.nsc.ru/site/hic_out/Anopheles/ActualData/hic/AsteI2_V4/AsteI2_V4.hic X 3R BP 100000 temp.contacts\n",
      "java -jar juicer/juicer_tools_1.19.02.jar dump observed NONE https://genedev.bionet.nsc.ru/site/hic_out/Anopheles/ActualData/hic/AsteI2_V4/AsteI2_V4.hic X 3L BP 100000 temp.contacts\n",
      "java -jar juicer/juicer_tools_1.19.02.jar dump observed NONE https://genedev.bionet.nsc.ru/site/hic_out/Anopheles/ActualData/hic/AsteI2_V4/AsteI2_V4.hic 2R 2R BP 100000 temp.contacts\n",
      "java -jar juicer/juicer_tools_1.19.02.jar dump observed NONE https://genedev.bionet.nsc.ru/site/hic_out/Anopheles/ActualData/hic/AsteI2_V4/AsteI2_V4.hic 2R 2L BP 100000 temp.contacts\n",
      "java -jar juicer/juicer_tools_1.19.02.jar dump observed NONE https://genedev.bionet.nsc.ru/site/hic_out/Anopheles/ActualData/hic/AsteI2_V4/AsteI2_V4.hic 2R 3R BP 100000 temp.contacts\n",
      "java -jar juicer/juicer_tools_1.19.02.jar dump observed NONE https://genedev.bionet.nsc.ru/site/hic_out/Anopheles/ActualData/hic/AsteI2_V4/AsteI2_V4.hic 2R 3L BP 100000 temp.contacts\n",
      "java -jar juicer/juicer_tools_1.19.02.jar dump observed NONE https://genedev.bionet.nsc.ru/site/hic_out/Anopheles/ActualData/hic/AsteI2_V4/AsteI2_V4.hic 2L 2L BP 100000 temp.contacts\n",
      "java -jar juicer/juicer_tools_1.19.02.jar dump observed NONE https://genedev.bionet.nsc.ru/site/hic_out/Anopheles/ActualData/hic/AsteI2_V4/AsteI2_V4.hic 2L 3R BP 100000 temp.contacts\n",
      "java -jar juicer/juicer_tools_1.19.02.jar dump observed NONE https://genedev.bionet.nsc.ru/site/hic_out/Anopheles/ActualData/hic/AsteI2_V4/AsteI2_V4.hic 2L 3L BP 100000 temp.contacts\n",
      "java -jar juicer/juicer_tools_1.19.02.jar dump observed NONE https://genedev.bionet.nsc.ru/site/hic_out/Anopheles/ActualData/hic/AsteI2_V4/AsteI2_V4.hic 3R 3R BP 100000 temp.contacts\n",
      "java -jar juicer/juicer_tools_1.19.02.jar dump observed NONE https://genedev.bionet.nsc.ru/site/hic_out/Anopheles/ActualData/hic/AsteI2_V4/AsteI2_V4.hic 3R 3L BP 100000 temp.contacts\n",
      "java -jar juicer/juicer_tools_1.19.02.jar dump observed NONE https://genedev.bionet.nsc.ru/site/hic_out/Anopheles/ActualData/hic/AsteI2_V4/AsteI2_V4.hic 3L 3L BP 100000 temp.contacts\n",
      "HiC version:  8\n"
     ]
    }
   ],
   "source": [
    "# set resolution\n",
    "res = 100000\n",
    "\n",
    "# set data file url\n",
    "file = \"https://genedev.bionet.nsc.ru/site/hic_out/Anopheles/ActualData/hic/AsteI2_V4/AsteI2_V4.hic\"\n",
    "\n",
    "# get all contacts\n",
    "data = getCoverage(file,\n",
    "               resolution=res,\n",
    "               juicer_tools_path=\"juicer/juicer_tools_1.19.02.jar\",\n",
    "               norm=\"NONE\")\n",
    "data.fillna(0,inplace=True) #note, some \"bad\" regions return NaNs, set them to 0\n",
    "\n",
    "# get chrsizes\n",
    "strawObj = straw.straw(file)\n",
    "chrsizes = strawObj.chromDotSizes.data\n",
    "if \"ALL\" in chrsizes:\n",
    "    del chrsizes[\"ALL\"]\n",
    "# convert chrsize dict to pandas series\n",
    "chrsizes=pd.Series([chrsizes[k][1] for k in chrsizes.keys()],index=chrsizes.keys())\n"
   ]
  },
  {
   "cell_type": "code",
   "execution_count": 58,
   "metadata": {},
   "outputs": [],
   "source": [
    "chrsizes=pd.Series([chrsizes[k][1] for k in chrsizes.keys()],index=chrsizes.keys())\n"
   ]
  },
  {
   "cell_type": "code",
   "execution_count": 61,
   "metadata": {},
   "outputs": [
    {
     "name": "stdout",
     "output_type": "stream",
     "text": [
      "https://genedev.bionet.nsc.ru/site/hic_out/Anopheles/ActualData/hic/AsteI2_V4/AsteI2_V4.hic\n"
     ]
    },
    {
     "data": {
      "text/html": [
       "<div>\n",
       "<style scoped>\n",
       "    .dataframe tbody tr th:only-of-type {\n",
       "        vertical-align: middle;\n",
       "    }\n",
       "\n",
       "    .dataframe tbody tr th {\n",
       "        vertical-align: top;\n",
       "    }\n",
       "\n",
       "    .dataframe thead th {\n",
       "        text-align: right;\n",
       "    }\n",
       "</style>\n",
       "<table border=\"1\" class=\"dataframe\">\n",
       "  <thead>\n",
       "    <tr style=\"text-align: right;\">\n",
       "      <th></th>\n",
       "      <th>cis</th>\n",
       "      <th>trans</th>\n",
       "      <th>total</th>\n",
       "    </tr>\n",
       "  </thead>\n",
       "  <tbody>\n",
       "    <tr>\n",
       "      <th>2L</th>\n",
       "      <td>0.448186</td>\n",
       "      <td>0.216668</td>\n",
       "      <td>0.664855</td>\n",
       "    </tr>\n",
       "    <tr>\n",
       "      <th>2R</th>\n",
       "      <td>0.523796</td>\n",
       "      <td>0.150964</td>\n",
       "      <td>0.674760</td>\n",
       "    </tr>\n",
       "    <tr>\n",
       "      <th>3L</th>\n",
       "      <td>0.484967</td>\n",
       "      <td>0.173372</td>\n",
       "      <td>0.658339</td>\n",
       "    </tr>\n",
       "    <tr>\n",
       "      <th>3R</th>\n",
       "      <td>0.476196</td>\n",
       "      <td>0.166165</td>\n",
       "      <td>0.642362</td>\n",
       "    </tr>\n",
       "    <tr>\n",
       "      <th>X</th>\n",
       "      <td>0.407314</td>\n",
       "      <td>0.315974</td>\n",
       "      <td>0.723288</td>\n",
       "    </tr>\n",
       "  </tbody>\n",
       "</table>\n",
       "</div>"
      ],
      "text/plain": [
       "         cis     trans     total\n",
       "2L  0.448186  0.216668  0.664855\n",
       "2R  0.523796  0.150964  0.674760\n",
       "3L  0.484967  0.173372  0.658339\n",
       "3R  0.476196  0.166165  0.642362\n",
       "X   0.407314  0.315974  0.723288"
      ]
     },
     "execution_count": 61,
     "metadata": {},
     "output_type": "execute_result"
    }
   ],
   "source": [
    "#borrowed from Alena's code\n",
    "pix_cis = data[data['chr1']==data['chr2']]\n",
    "pix_trans = data[data['chr1']!=data['chr2']]\n",
    "\n",
    "cov_cis=pix_cis.groupby('chr1')['count'].sum()/chrsizes \n",
    "\n",
    "\n",
    "cov_trans=pix_trans.groupby('chr1')['count'].sum().add(\n",
    "    pix_trans.groupby('chr2')['count'].sum(), fill_value=0)/chrsizes\n",
    "\n",
    "print (file)\n",
    "pd.concat([cov_cis, cov_trans, cov_cis+cov_trans],axis=1).rename(\n",
    "    columns={0:\"cis\",1:\"trans\",2:\"total\"})"
   ]
  },
  {
   "cell_type": "code",
   "execution_count": 54,
   "metadata": {},
   "outputs": [
    {
     "data": {
      "text/plain": [
       "1.226898313745529"
      ]
     },
     "execution_count": 54,
     "metadata": {},
     "output_type": "execute_result"
    }
   ],
   "source": [
    "0.360156 / 0.293550"
   ]
  }
 ],
 "metadata": {
  "kernelspec": {
   "display_name": "Python 3",
   "language": "python",
   "name": "python3"
  },
  "language_info": {
   "codemirror_mode": {
    "name": "ipython",
    "version": 3
   },
   "file_extension": ".py",
   "mimetype": "text/x-python",
   "name": "python",
   "nbconvert_exporter": "python",
   "pygments_lexer": "ipython3",
   "version": "3.6.9"
  }
 },
 "nbformat": 4,
 "nbformat_minor": 2
}
